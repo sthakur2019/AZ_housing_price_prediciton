{
 "cells": [
  {
   "cell_type": "code",
   "execution_count": 69,
   "metadata": {},
   "outputs": [],
   "source": [
    "import os\n",
    "import pandas as pd\n",
    "from datetime import datetime"
   ]
  },
  {
   "cell_type": "code",
   "execution_count": 70,
   "metadata": {},
   "outputs": [
    {
     "data": {
      "text/plain": [
       "'/Users/sohantha/Documents/Sohan Thakur/Personal/Bellevue University/DSC680/Week_1_4'"
      ]
     },
     "execution_count": 70,
     "metadata": {},
     "output_type": "execute_result"
    }
   ],
   "source": [
    "os.getcwd()"
   ]
  },
  {
   "cell_type": "code",
   "execution_count": 71,
   "metadata": {},
   "outputs": [],
   "source": [
    "base_path = os.getcwd()"
   ]
  },
  {
   "cell_type": "code",
   "execution_count": 72,
   "metadata": {},
   "outputs": [
    {
     "name": "stdout",
     "output_type": "stream",
     "text": [
      "House_price_predction.ipynb    White_paper_week1_4_final.docx\r\n",
      "Housing_data.xlsx              White_paper_week1_4_v1.pdf\r\n",
      "Milestone_1_proposal.docx      ~$Housing_data.xlsx\r\n",
      "Milestone_1_proposal.pdf       ~$ite_paper_week1_4_final.docx\r\n",
      "Week1                          ~$lestone_1_proposal.docx\r\n",
      "White_paper_week1_4_draft.docx\r\n"
     ]
    }
   ],
   "source": [
    "!ls"
   ]
  },
  {
   "cell_type": "code",
   "execution_count": 73,
   "metadata": {},
   "outputs": [],
   "source": [
    "housing_data_path = base_path + '/' + \"Housing_data.xlsx\""
   ]
  },
  {
   "cell_type": "code",
   "execution_count": 74,
   "metadata": {},
   "outputs": [],
   "source": [
    "df_housing = pd.read_excel(housing_data_path)"
   ]
  },
  {
   "cell_type": "code",
   "execution_count": 75,
   "metadata": {},
   "outputs": [],
   "source": [
    "df_housing_az = df_housing[df_housing.region =='Arizona']"
   ]
  },
  {
   "cell_type": "code",
   "execution_count": 76,
   "metadata": {},
   "outputs": [
    {
     "data": {
      "text/html": [
       "<div>\n",
       "<style scoped>\n",
       "    .dataframe tbody tr th:only-of-type {\n",
       "        vertical-align: middle;\n",
       "    }\n",
       "\n",
       "    .dataframe tbody tr th {\n",
       "        vertical-align: top;\n",
       "    }\n",
       "\n",
       "    .dataframe thead th {\n",
       "        text-align: right;\n",
       "    }\n",
       "</style>\n",
       "<table border=\"1\" class=\"dataframe\">\n",
       "  <thead>\n",
       "    <tr style=\"text-align: right;\">\n",
       "      <th></th>\n",
       "      <th>period_begin</th>\n",
       "      <th>period_end</th>\n",
       "      <th>period_duration</th>\n",
       "      <th>region_type</th>\n",
       "      <th>region_type_id</th>\n",
       "      <th>table_id</th>\n",
       "      <th>is_seasonally_adjusted</th>\n",
       "      <th>region</th>\n",
       "      <th>city</th>\n",
       "      <th>state</th>\n",
       "      <th>...</th>\n",
       "      <th>sold_above_list_yoy</th>\n",
       "      <th>price_drops</th>\n",
       "      <th>price_drops_mom</th>\n",
       "      <th>price_drops_yoy</th>\n",
       "      <th>off_market_in_two_weeks</th>\n",
       "      <th>off_market_in_two_weeks_mom</th>\n",
       "      <th>off_market_in_two_weeks_yoy</th>\n",
       "      <th>parent_metro_region</th>\n",
       "      <th>parent_metro_region_metro_code</th>\n",
       "      <th>last_updated</th>\n",
       "    </tr>\n",
       "  </thead>\n",
       "  <tbody>\n",
       "    <tr>\n",
       "      <th>12</th>\n",
       "      <td>2021-10-01</td>\n",
       "      <td>2021-10-31</td>\n",
       "      <td>30</td>\n",
       "      <td>state</td>\n",
       "      <td>4</td>\n",
       "      <td>5</td>\n",
       "      <td>f</td>\n",
       "      <td>Arizona</td>\n",
       "      <td>NaN</td>\n",
       "      <td>Arizona</td>\n",
       "      <td>...</td>\n",
       "      <td>0.193427</td>\n",
       "      <td>0.198330</td>\n",
       "      <td>0.016774</td>\n",
       "      <td>-0.010402</td>\n",
       "      <td>0.373044</td>\n",
       "      <td>0.026064</td>\n",
       "      <td>0.088290</td>\n",
       "      <td>West Region</td>\n",
       "      <td>NaN</td>\n",
       "      <td>2021-11-21 14:35:51</td>\n",
       "    </tr>\n",
       "    <tr>\n",
       "      <th>119</th>\n",
       "      <td>2021-10-01</td>\n",
       "      <td>2021-10-31</td>\n",
       "      <td>30</td>\n",
       "      <td>state</td>\n",
       "      <td>4</td>\n",
       "      <td>5</td>\n",
       "      <td>f</td>\n",
       "      <td>Arizona</td>\n",
       "      <td>NaN</td>\n",
       "      <td>Arizona</td>\n",
       "      <td>...</td>\n",
       "      <td>0.117056</td>\n",
       "      <td>0.204950</td>\n",
       "      <td>-0.001282</td>\n",
       "      <td>-0.008313</td>\n",
       "      <td>0.372440</td>\n",
       "      <td>0.057598</td>\n",
       "      <td>0.055568</td>\n",
       "      <td>West Region</td>\n",
       "      <td>NaN</td>\n",
       "      <td>2021-11-21 14:35:51</td>\n",
       "    </tr>\n",
       "    <tr>\n",
       "      <th>137</th>\n",
       "      <td>2021-10-01</td>\n",
       "      <td>2021-10-31</td>\n",
       "      <td>30</td>\n",
       "      <td>state</td>\n",
       "      <td>4</td>\n",
       "      <td>5</td>\n",
       "      <td>f</td>\n",
       "      <td>Arizona</td>\n",
       "      <td>NaN</td>\n",
       "      <td>Arizona</td>\n",
       "      <td>...</td>\n",
       "      <td>0.089910</td>\n",
       "      <td>0.238781</td>\n",
       "      <td>0.000571</td>\n",
       "      <td>0.048135</td>\n",
       "      <td>0.343137</td>\n",
       "      <td>0.011735</td>\n",
       "      <td>0.009351</td>\n",
       "      <td>West Region</td>\n",
       "      <td>NaN</td>\n",
       "      <td>2021-11-21 14:35:51</td>\n",
       "    </tr>\n",
       "    <tr>\n",
       "      <th>155</th>\n",
       "      <td>2021-10-01</td>\n",
       "      <td>2021-10-31</td>\n",
       "      <td>30</td>\n",
       "      <td>state</td>\n",
       "      <td>4</td>\n",
       "      <td>5</td>\n",
       "      <td>f</td>\n",
       "      <td>Arizona</td>\n",
       "      <td>NaN</td>\n",
       "      <td>Arizona</td>\n",
       "      <td>...</td>\n",
       "      <td>-0.038998</td>\n",
       "      <td>0.208092</td>\n",
       "      <td>0.016232</td>\n",
       "      <td>0.016981</td>\n",
       "      <td>0.266689</td>\n",
       "      <td>0.066207</td>\n",
       "      <td>-0.011131</td>\n",
       "      <td>West Region</td>\n",
       "      <td>NaN</td>\n",
       "      <td>2021-11-21 14:35:51</td>\n",
       "    </tr>\n",
       "    <tr>\n",
       "      <th>205</th>\n",
       "      <td>2021-10-01</td>\n",
       "      <td>2021-10-31</td>\n",
       "      <td>30</td>\n",
       "      <td>state</td>\n",
       "      <td>4</td>\n",
       "      <td>5</td>\n",
       "      <td>f</td>\n",
       "      <td>Arizona</td>\n",
       "      <td>NaN</td>\n",
       "      <td>Arizona</td>\n",
       "      <td>...</td>\n",
       "      <td>0.098118</td>\n",
       "      <td>0.232869</td>\n",
       "      <td>0.001629</td>\n",
       "      <td>0.038991</td>\n",
       "      <td>0.346665</td>\n",
       "      <td>0.016436</td>\n",
       "      <td>0.018113</td>\n",
       "      <td>West Region</td>\n",
       "      <td>NaN</td>\n",
       "      <td>2021-11-21 14:35:51</td>\n",
       "    </tr>\n",
       "    <tr>\n",
       "      <th>227</th>\n",
       "      <td>2021-09-01</td>\n",
       "      <td>2021-09-30</td>\n",
       "      <td>30</td>\n",
       "      <td>state</td>\n",
       "      <td>4</td>\n",
       "      <td>5</td>\n",
       "      <td>f</td>\n",
       "      <td>Arizona</td>\n",
       "      <td>NaN</td>\n",
       "      <td>Arizona</td>\n",
       "      <td>...</td>\n",
       "      <td>0.166862</td>\n",
       "      <td>0.181034</td>\n",
       "      <td>0.000026</td>\n",
       "      <td>0.002281</td>\n",
       "      <td>0.347420</td>\n",
       "      <td>-0.021896</td>\n",
       "      <td>0.048631</td>\n",
       "      <td>West Region</td>\n",
       "      <td>NaN</td>\n",
       "      <td>2021-11-21 14:35:51</td>\n",
       "    </tr>\n",
       "    <tr>\n",
       "      <th>237</th>\n",
       "      <td>2021-09-01</td>\n",
       "      <td>2021-09-30</td>\n",
       "      <td>30</td>\n",
       "      <td>state</td>\n",
       "      <td>4</td>\n",
       "      <td>5</td>\n",
       "      <td>f</td>\n",
       "      <td>Arizona</td>\n",
       "      <td>NaN</td>\n",
       "      <td>Arizona</td>\n",
       "      <td>...</td>\n",
       "      <td>0.189740</td>\n",
       "      <td>0.206233</td>\n",
       "      <td>-0.001128</td>\n",
       "      <td>0.027512</td>\n",
       "      <td>0.314841</td>\n",
       "      <td>-0.066471</td>\n",
       "      <td>0.001117</td>\n",
       "      <td>West Region</td>\n",
       "      <td>NaN</td>\n",
       "      <td>2021-11-21 14:35:51</td>\n",
       "    </tr>\n",
       "    <tr>\n",
       "      <th>267</th>\n",
       "      <td>2021-09-01</td>\n",
       "      <td>2021-09-30</td>\n",
       "      <td>30</td>\n",
       "      <td>state</td>\n",
       "      <td>4</td>\n",
       "      <td>5</td>\n",
       "      <td>f</td>\n",
       "      <td>Arizona</td>\n",
       "      <td>NaN</td>\n",
       "      <td>Arizona</td>\n",
       "      <td>...</td>\n",
       "      <td>0.133403</td>\n",
       "      <td>0.238211</td>\n",
       "      <td>0.006299</td>\n",
       "      <td>0.069969</td>\n",
       "      <td>0.331402</td>\n",
       "      <td>-0.035584</td>\n",
       "      <td>-0.016513</td>\n",
       "      <td>West Region</td>\n",
       "      <td>NaN</td>\n",
       "      <td>2021-11-21 14:35:51</td>\n",
       "    </tr>\n",
       "    <tr>\n",
       "      <th>345</th>\n",
       "      <td>2021-09-01</td>\n",
       "      <td>2021-09-30</td>\n",
       "      <td>30</td>\n",
       "      <td>state</td>\n",
       "      <td>4</td>\n",
       "      <td>5</td>\n",
       "      <td>f</td>\n",
       "      <td>Arizona</td>\n",
       "      <td>NaN</td>\n",
       "      <td>Arizona</td>\n",
       "      <td>...</td>\n",
       "      <td>0.138425</td>\n",
       "      <td>0.231240</td>\n",
       "      <td>0.004996</td>\n",
       "      <td>0.061552</td>\n",
       "      <td>0.330228</td>\n",
       "      <td>-0.037267</td>\n",
       "      <td>-0.010384</td>\n",
       "      <td>West Region</td>\n",
       "      <td>NaN</td>\n",
       "      <td>2021-11-21 14:35:51</td>\n",
       "    </tr>\n",
       "    <tr>\n",
       "      <th>352</th>\n",
       "      <td>2021-09-01</td>\n",
       "      <td>2021-09-30</td>\n",
       "      <td>30</td>\n",
       "      <td>state</td>\n",
       "      <td>4</td>\n",
       "      <td>5</td>\n",
       "      <td>f</td>\n",
       "      <td>Arizona</td>\n",
       "      <td>NaN</td>\n",
       "      <td>Arizona</td>\n",
       "      <td>...</td>\n",
       "      <td>-0.035714</td>\n",
       "      <td>0.192090</td>\n",
       "      <td>-0.040714</td>\n",
       "      <td>0.014124</td>\n",
       "      <td>0.206993</td>\n",
       "      <td>-0.064015</td>\n",
       "      <td>0.019305</td>\n",
       "      <td>West Region</td>\n",
       "      <td>NaN</td>\n",
       "      <td>2021-11-21 14:35:51</td>\n",
       "    </tr>\n",
       "  </tbody>\n",
       "</table>\n",
       "<p>10 rows × 58 columns</p>\n",
       "</div>"
      ],
      "text/plain": [
       "    period_begin period_end  period_duration region_type  region_type_id  \\\n",
       "12    2021-10-01 2021-10-31               30       state               4   \n",
       "119   2021-10-01 2021-10-31               30       state               4   \n",
       "137   2021-10-01 2021-10-31               30       state               4   \n",
       "155   2021-10-01 2021-10-31               30       state               4   \n",
       "205   2021-10-01 2021-10-31               30       state               4   \n",
       "227   2021-09-01 2021-09-30               30       state               4   \n",
       "237   2021-09-01 2021-09-30               30       state               4   \n",
       "267   2021-09-01 2021-09-30               30       state               4   \n",
       "345   2021-09-01 2021-09-30               30       state               4   \n",
       "352   2021-09-01 2021-09-30               30       state               4   \n",
       "\n",
       "     table_id is_seasonally_adjusted   region  city    state  ...  \\\n",
       "12          5                      f  Arizona   NaN  Arizona  ...   \n",
       "119         5                      f  Arizona   NaN  Arizona  ...   \n",
       "137         5                      f  Arizona   NaN  Arizona  ...   \n",
       "155         5                      f  Arizona   NaN  Arizona  ...   \n",
       "205         5                      f  Arizona   NaN  Arizona  ...   \n",
       "227         5                      f  Arizona   NaN  Arizona  ...   \n",
       "237         5                      f  Arizona   NaN  Arizona  ...   \n",
       "267         5                      f  Arizona   NaN  Arizona  ...   \n",
       "345         5                      f  Arizona   NaN  Arizona  ...   \n",
       "352         5                      f  Arizona   NaN  Arizona  ...   \n",
       "\n",
       "    sold_above_list_yoy price_drops  price_drops_mom  price_drops_yoy  \\\n",
       "12             0.193427    0.198330         0.016774        -0.010402   \n",
       "119            0.117056    0.204950        -0.001282        -0.008313   \n",
       "137            0.089910    0.238781         0.000571         0.048135   \n",
       "155           -0.038998    0.208092         0.016232         0.016981   \n",
       "205            0.098118    0.232869         0.001629         0.038991   \n",
       "227            0.166862    0.181034         0.000026         0.002281   \n",
       "237            0.189740    0.206233        -0.001128         0.027512   \n",
       "267            0.133403    0.238211         0.006299         0.069969   \n",
       "345            0.138425    0.231240         0.004996         0.061552   \n",
       "352           -0.035714    0.192090        -0.040714         0.014124   \n",
       "\n",
       "     off_market_in_two_weeks  off_market_in_two_weeks_mom  \\\n",
       "12                  0.373044                     0.026064   \n",
       "119                 0.372440                     0.057598   \n",
       "137                 0.343137                     0.011735   \n",
       "155                 0.266689                     0.066207   \n",
       "205                 0.346665                     0.016436   \n",
       "227                 0.347420                    -0.021896   \n",
       "237                 0.314841                    -0.066471   \n",
       "267                 0.331402                    -0.035584   \n",
       "345                 0.330228                    -0.037267   \n",
       "352                 0.206993                    -0.064015   \n",
       "\n",
       "     off_market_in_two_weeks_yoy  parent_metro_region  \\\n",
       "12                      0.088290          West Region   \n",
       "119                     0.055568          West Region   \n",
       "137                     0.009351          West Region   \n",
       "155                    -0.011131          West Region   \n",
       "205                     0.018113          West Region   \n",
       "227                     0.048631          West Region   \n",
       "237                     0.001117          West Region   \n",
       "267                    -0.016513          West Region   \n",
       "345                    -0.010384          West Region   \n",
       "352                     0.019305          West Region   \n",
       "\n",
       "     parent_metro_region_metro_code        last_updated  \n",
       "12                              NaN 2021-11-21 14:35:51  \n",
       "119                             NaN 2021-11-21 14:35:51  \n",
       "137                             NaN 2021-11-21 14:35:51  \n",
       "155                             NaN 2021-11-21 14:35:51  \n",
       "205                             NaN 2021-11-21 14:35:51  \n",
       "227                             NaN 2021-11-21 14:35:51  \n",
       "237                             NaN 2021-11-21 14:35:51  \n",
       "267                             NaN 2021-11-21 14:35:51  \n",
       "345                             NaN 2021-11-21 14:35:51  \n",
       "352                             NaN 2021-11-21 14:35:51  \n",
       "\n",
       "[10 rows x 58 columns]"
      ]
     },
     "execution_count": 76,
     "metadata": {},
     "output_type": "execute_result"
    }
   ],
   "source": [
    "df_housing_az.head(10)"
   ]
  },
  {
   "cell_type": "code",
   "execution_count": 77,
   "metadata": {},
   "outputs": [],
   "source": [
    "df_housing_az_sfr = df_housing_az[df_housing_az.property_type =='Single Family Residential']"
   ]
  },
  {
   "cell_type": "markdown",
   "metadata": {},
   "source": [
    "FACEBOOK PROPHET"
   ]
  },
  {
   "cell_type": "code",
   "execution_count": 78,
   "metadata": {},
   "outputs": [],
   "source": [
    "import pandas as pd\n",
    "from prophet import Prophet"
   ]
  },
  {
   "cell_type": "code",
   "execution_count": 79,
   "metadata": {},
   "outputs": [],
   "source": [
    "df_prophet_format = df_housing_az_sfr[['period_begin','median_sale_price']]\n",
    "df_prophet_format = df_prophet_format.rename(columns = {'period_begin':'ds','median_sale_price':'y'})"
   ]
  },
  {
   "cell_type": "code",
   "execution_count": 80,
   "metadata": {},
   "outputs": [
    {
     "data": {
      "text/html": [
       "<div>\n",
       "<style scoped>\n",
       "    .dataframe tbody tr th:only-of-type {\n",
       "        vertical-align: middle;\n",
       "    }\n",
       "\n",
       "    .dataframe tbody tr th {\n",
       "        vertical-align: top;\n",
       "    }\n",
       "\n",
       "    .dataframe thead th {\n",
       "        text-align: right;\n",
       "    }\n",
       "</style>\n",
       "<table border=\"1\" class=\"dataframe\">\n",
       "  <thead>\n",
       "    <tr style=\"text-align: right;\">\n",
       "      <th></th>\n",
       "      <th>ds</th>\n",
       "      <th>y</th>\n",
       "    </tr>\n",
       "  </thead>\n",
       "  <tbody>\n",
       "    <tr>\n",
       "      <th>137</th>\n",
       "      <td>2021-10-01</td>\n",
       "      <td>433200</td>\n",
       "    </tr>\n",
       "    <tr>\n",
       "      <th>267</th>\n",
       "      <td>2021-09-01</td>\n",
       "      <td>425800</td>\n",
       "    </tr>\n",
       "    <tr>\n",
       "      <th>474</th>\n",
       "      <td>2021-08-01</td>\n",
       "      <td>422700</td>\n",
       "    </tr>\n",
       "    <tr>\n",
       "      <th>707</th>\n",
       "      <td>2021-07-01</td>\n",
       "      <td>420800</td>\n",
       "    </tr>\n",
       "    <tr>\n",
       "      <th>1141</th>\n",
       "      <td>2021-06-01</td>\n",
       "      <td>418900</td>\n",
       "    </tr>\n",
       "    <tr>\n",
       "      <th>1276</th>\n",
       "      <td>2021-05-01</td>\n",
       "      <td>408300</td>\n",
       "    </tr>\n",
       "    <tr>\n",
       "      <th>1630</th>\n",
       "      <td>2021-04-01</td>\n",
       "      <td>394100</td>\n",
       "    </tr>\n",
       "    <tr>\n",
       "      <th>1786</th>\n",
       "      <td>2021-03-01</td>\n",
       "      <td>379900</td>\n",
       "    </tr>\n",
       "    <tr>\n",
       "      <th>1927</th>\n",
       "      <td>2021-02-01</td>\n",
       "      <td>368300</td>\n",
       "    </tr>\n",
       "    <tr>\n",
       "      <th>2249</th>\n",
       "      <td>2021-01-01</td>\n",
       "      <td>355600</td>\n",
       "    </tr>\n",
       "  </tbody>\n",
       "</table>\n",
       "</div>"
      ],
      "text/plain": [
       "             ds       y\n",
       "137  2021-10-01  433200\n",
       "267  2021-09-01  425800\n",
       "474  2021-08-01  422700\n",
       "707  2021-07-01  420800\n",
       "1141 2021-06-01  418900\n",
       "1276 2021-05-01  408300\n",
       "1630 2021-04-01  394100\n",
       "1786 2021-03-01  379900\n",
       "1927 2021-02-01  368300\n",
       "2249 2021-01-01  355600"
      ]
     },
     "execution_count": 80,
     "metadata": {},
     "output_type": "execute_result"
    }
   ],
   "source": [
    "df_prophet_format.head(10)"
   ]
  },
  {
   "cell_type": "code",
   "execution_count": 81,
   "metadata": {},
   "outputs": [],
   "source": [
    "#considering data till 2020 as test\n",
    "df_prophet_format_test = df_prophet_format[df_prophet_format.ds < '2021-01-01']"
   ]
  },
  {
   "cell_type": "code",
   "execution_count": 82,
   "metadata": {},
   "outputs": [
    {
     "name": "stderr",
     "output_type": "stream",
     "text": [
      "INFO:numexpr.utils:Note: NumExpr detected 12 cores but \"NUMEXPR_MAX_THREADS\" not set, so enforcing safe limit of 8.\n",
      "INFO:numexpr.utils:NumExpr defaulting to 8 threads.\n",
      "INFO:prophet:Disabling weekly seasonality. Run prophet with weekly_seasonality=True to override this.\n",
      "INFO:prophet:Disabling daily seasonality. Run prophet with daily_seasonality=True to override this.\n"
     ]
    },
    {
     "data": {
      "text/plain": [
       "<prophet.forecaster.Prophet at 0x7feacd45f130>"
      ]
     },
     "execution_count": 82,
     "metadata": {},
     "output_type": "execute_result"
    }
   ],
   "source": [
    "#Fitting prophet model with changepoint prior scale as 0.3\n",
    "m = Prophet(changepoint_prior_scale=0.3)\n",
    "m.fit(df_prophet_format_test)"
   ]
  },
  {
   "cell_type": "code",
   "execution_count": 83,
   "metadata": {},
   "outputs": [],
   "source": [
    "#predicting 2yrs of home price\n",
    "future = m.make_future_dataframe(periods=730)"
   ]
  },
  {
   "cell_type": "code",
   "execution_count": 84,
   "metadata": {},
   "outputs": [],
   "source": [
    "#function to get date of the month from date\n",
    "def get_first_day(date):\n",
    "    return str(date)[8:10]\n",
    "def get_first_day_date(date):\n",
    "    return str(date)[0:7]+'-01'"
   ]
  },
  {
   "cell_type": "code",
   "execution_count": 85,
   "metadata": {},
   "outputs": [
    {
     "name": "stderr",
     "output_type": "stream",
     "text": [
      "<ipython-input-85-a426593978a1>:5: SettingWithCopyWarning: \n",
      "A value is trying to be set on a copy of a slice from a DataFrame.\n",
      "Try using .loc[row_indexer,col_indexer] = value instead\n",
      "\n",
      "See the caveats in the documentation: https://pandas.pydata.org/pandas-docs/stable/user_guide/indexing.html#returning-a-view-versus-a-copy\n",
      "  forrecast_monthly['date'] = forrecast_monthly['ds'].apply(lambda x : get_first_day(x))\n"
     ]
    }
   ],
   "source": [
    "#Forecasting next 2 yrs using trained model\n",
    "forecast = m.predict(future)\n",
    "forrecast_monthly = forecast[['ds', 'yhat', 'yhat_lower', 'yhat_upper']]\n",
    "\n",
    "forrecast_monthly['date'] = forrecast_monthly['ds'].apply(lambda x : get_first_day(x))"
   ]
  },
  {
   "cell_type": "code",
   "execution_count": 86,
   "metadata": {},
   "outputs": [],
   "source": [
    "#Will consider the price on 28th of the month as the price of that month(to accomodate Feb)\n",
    "forrecast_monthly = forrecast_monthly[forrecast_monthly['date'] =='28']\n",
    "forrecast_monthly['ds'] = forrecast_monthly['ds'].apply(lambda x : get_first_day_date(x))\n",
    "\n",
    "#In order to consider the unexpected increase in home proce, will use a factor of 1.1\n",
    "forrecast_monthly['final_predicted_price'] = forrecast_monthly['yhat_upper']* 1.1"
   ]
  },
  {
   "cell_type": "code",
   "execution_count": 87,
   "metadata": {},
   "outputs": [
    {
     "data": {
      "text/html": [
       "<div>\n",
       "<style scoped>\n",
       "    .dataframe tbody tr th:only-of-type {\n",
       "        vertical-align: middle;\n",
       "    }\n",
       "\n",
       "    .dataframe tbody tr th {\n",
       "        vertical-align: top;\n",
       "    }\n",
       "\n",
       "    .dataframe thead th {\n",
       "        text-align: right;\n",
       "    }\n",
       "</style>\n",
       "<table border=\"1\" class=\"dataframe\">\n",
       "  <thead>\n",
       "    <tr style=\"text-align: right;\">\n",
       "      <th></th>\n",
       "      <th>ds</th>\n",
       "      <th>yhat</th>\n",
       "      <th>yhat_lower</th>\n",
       "      <th>yhat_upper</th>\n",
       "      <th>date</th>\n",
       "      <th>final_predicted_price</th>\n",
       "    </tr>\n",
       "  </thead>\n",
       "  <tbody>\n",
       "    <tr>\n",
       "      <th>134</th>\n",
       "      <td>2020-12-01</td>\n",
       "      <td>344196.463011</td>\n",
       "      <td>339900.189446</td>\n",
       "      <td>348679.431075</td>\n",
       "      <td>28</td>\n",
       "      <td>383547.374183</td>\n",
       "    </tr>\n",
       "    <tr>\n",
       "      <th>165</th>\n",
       "      <td>2021-01-01</td>\n",
       "      <td>336173.057308</td>\n",
       "      <td>331625.737171</td>\n",
       "      <td>340369.333044</td>\n",
       "      <td>28</td>\n",
       "      <td>374406.266349</td>\n",
       "    </tr>\n",
       "    <tr>\n",
       "      <th>196</th>\n",
       "      <td>2021-02-01</td>\n",
       "      <td>353694.095859</td>\n",
       "      <td>349708.277566</td>\n",
       "      <td>358219.045060</td>\n",
       "      <td>28</td>\n",
       "      <td>394040.949566</td>\n",
       "    </tr>\n",
       "    <tr>\n",
       "      <th>224</th>\n",
       "      <td>2021-03-01</td>\n",
       "      <td>336492.200151</td>\n",
       "      <td>332328.086233</td>\n",
       "      <td>340728.701047</td>\n",
       "      <td>28</td>\n",
       "      <td>374801.571151</td>\n",
       "    </tr>\n",
       "    <tr>\n",
       "      <th>255</th>\n",
       "      <td>2021-04-01</td>\n",
       "      <td>383627.080864</td>\n",
       "      <td>379001.089233</td>\n",
       "      <td>387955.221162</td>\n",
       "      <td>28</td>\n",
       "      <td>426750.743278</td>\n",
       "    </tr>\n",
       "    <tr>\n",
       "      <th>285</th>\n",
       "      <td>2021-05-01</td>\n",
       "      <td>373410.134637</td>\n",
       "      <td>368690.905418</td>\n",
       "      <td>378078.899201</td>\n",
       "      <td>28</td>\n",
       "      <td>415886.789121</td>\n",
       "    </tr>\n",
       "    <tr>\n",
       "      <th>316</th>\n",
       "      <td>2021-06-01</td>\n",
       "      <td>368620.655966</td>\n",
       "      <td>363551.934315</td>\n",
       "      <td>373510.668071</td>\n",
       "      <td>28</td>\n",
       "      <td>410861.734879</td>\n",
       "    </tr>\n",
       "    <tr>\n",
       "      <th>346</th>\n",
       "      <td>2021-07-01</td>\n",
       "      <td>354745.223993</td>\n",
       "      <td>349833.976858</td>\n",
       "      <td>359811.176971</td>\n",
       "      <td>28</td>\n",
       "      <td>395792.294668</td>\n",
       "    </tr>\n",
       "    <tr>\n",
       "      <th>377</th>\n",
       "      <td>2021-08-01</td>\n",
       "      <td>373044.140707</td>\n",
       "      <td>367501.658560</td>\n",
       "      <td>378766.343627</td>\n",
       "      <td>28</td>\n",
       "      <td>416642.977990</td>\n",
       "    </tr>\n",
       "    <tr>\n",
       "      <th>408</th>\n",
       "      <td>2021-09-01</td>\n",
       "      <td>379819.795014</td>\n",
       "      <td>374163.663289</td>\n",
       "      <td>385284.451049</td>\n",
       "      <td>28</td>\n",
       "      <td>423812.896154</td>\n",
       "    </tr>\n",
       "    <tr>\n",
       "      <th>438</th>\n",
       "      <td>2021-10-01</td>\n",
       "      <td>378475.028403</td>\n",
       "      <td>372339.014850</td>\n",
       "      <td>384823.086265</td>\n",
       "      <td>28</td>\n",
       "      <td>423305.394892</td>\n",
       "    </tr>\n",
       "    <tr>\n",
       "      <th>469</th>\n",
       "      <td>2021-11-01</td>\n",
       "      <td>392649.110438</td>\n",
       "      <td>386142.348275</td>\n",
       "      <td>399005.585541</td>\n",
       "      <td>28</td>\n",
       "      <td>438906.144095</td>\n",
       "    </tr>\n",
       "    <tr>\n",
       "      <th>499</th>\n",
       "      <td>2021-12-01</td>\n",
       "      <td>381537.139080</td>\n",
       "      <td>374767.314502</td>\n",
       "      <td>388703.641041</td>\n",
       "      <td>28</td>\n",
       "      <td>427574.005145</td>\n",
       "    </tr>\n",
       "    <tr>\n",
       "      <th>530</th>\n",
       "      <td>2022-01-01</td>\n",
       "      <td>372909.243653</td>\n",
       "      <td>365429.483920</td>\n",
       "      <td>380957.757027</td>\n",
       "      <td>28</td>\n",
       "      <td>419053.532729</td>\n",
       "    </tr>\n",
       "    <tr>\n",
       "      <th>561</th>\n",
       "      <td>2022-02-01</td>\n",
       "      <td>391414.542683</td>\n",
       "      <td>383297.577564</td>\n",
       "      <td>399415.464448</td>\n",
       "      <td>28</td>\n",
       "      <td>439357.010893</td>\n",
       "    </tr>\n",
       "    <tr>\n",
       "      <th>589</th>\n",
       "      <td>2022-03-01</td>\n",
       "      <td>373016.631039</td>\n",
       "      <td>364038.754235</td>\n",
       "      <td>382281.970671</td>\n",
       "      <td>28</td>\n",
       "      <td>420510.167738</td>\n",
       "    </tr>\n",
       "    <tr>\n",
       "      <th>620</th>\n",
       "      <td>2022-04-01</td>\n",
       "      <td>422957.845881</td>\n",
       "      <td>413185.561625</td>\n",
       "      <td>433050.208855</td>\n",
       "      <td>28</td>\n",
       "      <td>476355.229740</td>\n",
       "    </tr>\n",
       "    <tr>\n",
       "      <th>650</th>\n",
       "      <td>2022-05-01</td>\n",
       "      <td>411004.077937</td>\n",
       "      <td>400830.518693</td>\n",
       "      <td>421502.041663</td>\n",
       "      <td>28</td>\n",
       "      <td>463652.245830</td>\n",
       "    </tr>\n",
       "    <tr>\n",
       "      <th>681</th>\n",
       "      <td>2022-06-01</td>\n",
       "      <td>405925.186766</td>\n",
       "      <td>395088.559783</td>\n",
       "      <td>417894.076811</td>\n",
       "      <td>28</td>\n",
       "      <td>459683.484492</td>\n",
       "    </tr>\n",
       "    <tr>\n",
       "      <th>711</th>\n",
       "      <td>2022-07-01</td>\n",
       "      <td>391218.260551</td>\n",
       "      <td>378998.594540</td>\n",
       "      <td>403460.656383</td>\n",
       "      <td>28</td>\n",
       "      <td>443806.722022</td>\n",
       "    </tr>\n",
       "    <tr>\n",
       "      <th>742</th>\n",
       "      <td>2022-08-01</td>\n",
       "      <td>410653.747415</td>\n",
       "      <td>397390.016978</td>\n",
       "      <td>423988.057658</td>\n",
       "      <td>28</td>\n",
       "      <td>466386.863423</td>\n",
       "    </tr>\n",
       "    <tr>\n",
       "      <th>773</th>\n",
       "      <td>2022-09-01</td>\n",
       "      <td>417676.397180</td>\n",
       "      <td>404298.790411</td>\n",
       "      <td>432492.394724</td>\n",
       "      <td>28</td>\n",
       "      <td>475741.634196</td>\n",
       "    </tr>\n",
       "    <tr>\n",
       "      <th>803</th>\n",
       "      <td>2022-10-01</td>\n",
       "      <td>416061.708465</td>\n",
       "      <td>400811.278242</td>\n",
       "      <td>430541.204568</td>\n",
       "      <td>28</td>\n",
       "      <td>473595.325025</td>\n",
       "    </tr>\n",
       "    <tr>\n",
       "      <th>834</th>\n",
       "      <td>2022-11-01</td>\n",
       "      <td>431073.496431</td>\n",
       "      <td>413971.067953</td>\n",
       "      <td>447166.863906</td>\n",
       "      <td>28</td>\n",
       "      <td>491883.550296</td>\n",
       "    </tr>\n",
       "  </tbody>\n",
       "</table>\n",
       "</div>"
      ],
      "text/plain": [
       "             ds           yhat     yhat_lower     yhat_upper date  \\\n",
       "134  2020-12-01  344196.463011  339900.189446  348679.431075   28   \n",
       "165  2021-01-01  336173.057308  331625.737171  340369.333044   28   \n",
       "196  2021-02-01  353694.095859  349708.277566  358219.045060   28   \n",
       "224  2021-03-01  336492.200151  332328.086233  340728.701047   28   \n",
       "255  2021-04-01  383627.080864  379001.089233  387955.221162   28   \n",
       "285  2021-05-01  373410.134637  368690.905418  378078.899201   28   \n",
       "316  2021-06-01  368620.655966  363551.934315  373510.668071   28   \n",
       "346  2021-07-01  354745.223993  349833.976858  359811.176971   28   \n",
       "377  2021-08-01  373044.140707  367501.658560  378766.343627   28   \n",
       "408  2021-09-01  379819.795014  374163.663289  385284.451049   28   \n",
       "438  2021-10-01  378475.028403  372339.014850  384823.086265   28   \n",
       "469  2021-11-01  392649.110438  386142.348275  399005.585541   28   \n",
       "499  2021-12-01  381537.139080  374767.314502  388703.641041   28   \n",
       "530  2022-01-01  372909.243653  365429.483920  380957.757027   28   \n",
       "561  2022-02-01  391414.542683  383297.577564  399415.464448   28   \n",
       "589  2022-03-01  373016.631039  364038.754235  382281.970671   28   \n",
       "620  2022-04-01  422957.845881  413185.561625  433050.208855   28   \n",
       "650  2022-05-01  411004.077937  400830.518693  421502.041663   28   \n",
       "681  2022-06-01  405925.186766  395088.559783  417894.076811   28   \n",
       "711  2022-07-01  391218.260551  378998.594540  403460.656383   28   \n",
       "742  2022-08-01  410653.747415  397390.016978  423988.057658   28   \n",
       "773  2022-09-01  417676.397180  404298.790411  432492.394724   28   \n",
       "803  2022-10-01  416061.708465  400811.278242  430541.204568   28   \n",
       "834  2022-11-01  431073.496431  413971.067953  447166.863906   28   \n",
       "\n",
       "     final_predicted_price  \n",
       "134          383547.374183  \n",
       "165          374406.266349  \n",
       "196          394040.949566  \n",
       "224          374801.571151  \n",
       "255          426750.743278  \n",
       "285          415886.789121  \n",
       "316          410861.734879  \n",
       "346          395792.294668  \n",
       "377          416642.977990  \n",
       "408          423812.896154  \n",
       "438          423305.394892  \n",
       "469          438906.144095  \n",
       "499          427574.005145  \n",
       "530          419053.532729  \n",
       "561          439357.010893  \n",
       "589          420510.167738  \n",
       "620          476355.229740  \n",
       "650          463652.245830  \n",
       "681          459683.484492  \n",
       "711          443806.722022  \n",
       "742          466386.863423  \n",
       "773          475741.634196  \n",
       "803          473595.325025  \n",
       "834          491883.550296  "
      ]
     },
     "execution_count": 87,
     "metadata": {},
     "output_type": "execute_result"
    }
   ],
   "source": [
    "forrecast_monthly"
   ]
  },
  {
   "cell_type": "code",
   "execution_count": 224,
   "metadata": {},
   "outputs": [],
   "source": [
    "forrecast_monthly_final = forrecast_monthly[['ds','final_predicted_price']].rename(columns = {'final_predicted_price':'y_pred'})\n",
    "forrecast_monthly_final['ds'] = forrecast_monthly_final['ds'].astype('datetime64[ns]')"
   ]
  },
  {
   "cell_type": "code",
   "execution_count": 229,
   "metadata": {},
   "outputs": [
    {
     "data": {
      "text/plain": [
       "60713.54172434384"
      ]
     },
     "execution_count": 229,
     "metadata": {},
     "output_type": "execute_result"
    }
   ],
   "source": [
    "forecast_monthly_final_comp = pd.merge(forrecast_monthly_final,df_prophet_format,how = 'inner',on=['ds'])\n",
    "forecast_monthly_final_comp['error'] = forecast_monthly_final_comp['y_pred'] - forecast_monthly_final_comp['y'] \n",
    "forecast_monthly_final_comp['error'].sum()\n"
   ]
  },
  {
   "cell_type": "code",
   "execution_count": 230,
   "metadata": {},
   "outputs": [
    {
     "data": {
      "text/html": [
       "<div>\n",
       "<style scoped>\n",
       "    .dataframe tbody tr th:only-of-type {\n",
       "        vertical-align: middle;\n",
       "    }\n",
       "\n",
       "    .dataframe tbody tr th {\n",
       "        vertical-align: top;\n",
       "    }\n",
       "\n",
       "    .dataframe thead th {\n",
       "        text-align: right;\n",
       "    }\n",
       "</style>\n",
       "<table border=\"1\" class=\"dataframe\">\n",
       "  <thead>\n",
       "    <tr style=\"text-align: right;\">\n",
       "      <th></th>\n",
       "      <th>ds</th>\n",
       "      <th>y_pred</th>\n",
       "      <th>y</th>\n",
       "      <th>error</th>\n",
       "    </tr>\n",
       "  </thead>\n",
       "  <tbody>\n",
       "    <tr>\n",
       "      <th>0</th>\n",
       "      <td>2020-12-01</td>\n",
       "      <td>383370.746714</td>\n",
       "      <td>351800</td>\n",
       "      <td>31570.746714</td>\n",
       "    </tr>\n",
       "    <tr>\n",
       "      <th>1</th>\n",
       "      <td>2021-01-01</td>\n",
       "      <td>374638.024824</td>\n",
       "      <td>355600</td>\n",
       "      <td>19038.024824</td>\n",
       "    </tr>\n",
       "    <tr>\n",
       "      <th>2</th>\n",
       "      <td>2021-02-01</td>\n",
       "      <td>393692.566491</td>\n",
       "      <td>368300</td>\n",
       "      <td>25392.566491</td>\n",
       "    </tr>\n",
       "    <tr>\n",
       "      <th>3</th>\n",
       "      <td>2021-03-01</td>\n",
       "      <td>375165.241634</td>\n",
       "      <td>379900</td>\n",
       "      <td>-4734.758366</td>\n",
       "    </tr>\n",
       "    <tr>\n",
       "      <th>4</th>\n",
       "      <td>2021-04-01</td>\n",
       "      <td>426801.639409</td>\n",
       "      <td>394100</td>\n",
       "      <td>32701.639409</td>\n",
       "    </tr>\n",
       "    <tr>\n",
       "      <th>5</th>\n",
       "      <td>2021-05-01</td>\n",
       "      <td>415976.281784</td>\n",
       "      <td>408300</td>\n",
       "      <td>7676.281784</td>\n",
       "    </tr>\n",
       "    <tr>\n",
       "      <th>6</th>\n",
       "      <td>2021-06-01</td>\n",
       "      <td>410605.432406</td>\n",
       "      <td>418900</td>\n",
       "      <td>-8294.567594</td>\n",
       "    </tr>\n",
       "    <tr>\n",
       "      <th>7</th>\n",
       "      <td>2021-07-01</td>\n",
       "      <td>395719.613005</td>\n",
       "      <td>420800</td>\n",
       "      <td>-25080.386995</td>\n",
       "    </tr>\n",
       "    <tr>\n",
       "      <th>8</th>\n",
       "      <td>2021-08-01</td>\n",
       "      <td>416477.891388</td>\n",
       "      <td>422700</td>\n",
       "      <td>-6222.108612</td>\n",
       "    </tr>\n",
       "    <tr>\n",
       "      <th>9</th>\n",
       "      <td>2021-09-01</td>\n",
       "      <td>424200.086703</td>\n",
       "      <td>425800</td>\n",
       "      <td>-1599.913297</td>\n",
       "    </tr>\n",
       "    <tr>\n",
       "      <th>10</th>\n",
       "      <td>2021-10-01</td>\n",
       "      <td>423466.017366</td>\n",
       "      <td>433200</td>\n",
       "      <td>-9733.982634</td>\n",
       "    </tr>\n",
       "  </tbody>\n",
       "</table>\n",
       "</div>"
      ],
      "text/plain": [
       "           ds         y_pred       y         error\n",
       "0  2020-12-01  383370.746714  351800  31570.746714\n",
       "1  2021-01-01  374638.024824  355600  19038.024824\n",
       "2  2021-02-01  393692.566491  368300  25392.566491\n",
       "3  2021-03-01  375165.241634  379900  -4734.758366\n",
       "4  2021-04-01  426801.639409  394100  32701.639409\n",
       "5  2021-05-01  415976.281784  408300   7676.281784\n",
       "6  2021-06-01  410605.432406  418900  -8294.567594\n",
       "7  2021-07-01  395719.613005  420800 -25080.386995\n",
       "8  2021-08-01  416477.891388  422700  -6222.108612\n",
       "9  2021-09-01  424200.086703  425800  -1599.913297\n",
       "10 2021-10-01  423466.017366  433200  -9733.982634"
      ]
     },
     "execution_count": 230,
     "metadata": {},
     "output_type": "execute_result"
    }
   ],
   "source": [
    "forecast_monthly_final_comp.head(20)"
   ]
  },
  {
   "cell_type": "code",
   "execution_count": 216,
   "metadata": {},
   "outputs": [
    {
     "data": {
      "image/png": "[encoded data removed]",
      "text/plain": [
       "<Figure size 720x432 with 1 Axes>"
      ]
     },
     "metadata": {},
     "output_type": "display_data"
    }
   ],
   "source": [
    "fig1 = m.plot(forecast)\n"
   ]
  },
  {
   "cell_type": "code",
   "execution_count": 217,
   "metadata": {},
   "outputs": [
    {
     "data": {
      "image/png": "[encoded data removed]",
      "text/plain": [
       "<Figure size 648x432 with 2 Axes>"
      ]
     },
     "metadata": {},
     "output_type": "display_data"
    }
   ],
   "source": [
    "fig2 = m.plot_components(forecast)\n"
   ]
  },
  {
   "cell_type": "code",
   "execution_count": 232,
   "metadata": {},
   "outputs": [
    {
     "data": {
      "text/html": [
       "<div>\n",
       "<style scoped>\n",
       "    .dataframe tbody tr th:only-of-type {\n",
       "        vertical-align: middle;\n",
       "    }\n",
       "\n",
       "    .dataframe tbody tr th {\n",
       "        vertical-align: top;\n",
       "    }\n",
       "\n",
       "    .dataframe thead th {\n",
       "        text-align: right;\n",
       "    }\n",
       "</style>\n",
       "<table border=\"1\" class=\"dataframe\">\n",
       "  <thead>\n",
       "    <tr style=\"text-align: right;\">\n",
       "      <th></th>\n",
       "      <th>ds</th>\n",
       "      <th>y_pred</th>\n",
       "    </tr>\n",
       "  </thead>\n",
       "  <tbody>\n",
       "    <tr>\n",
       "      <th>530</th>\n",
       "      <td>2022-01-01</td>\n",
       "      <td>419309.356300</td>\n",
       "    </tr>\n",
       "    <tr>\n",
       "      <th>561</th>\n",
       "      <td>2022-02-01</td>\n",
       "      <td>440812.670115</td>\n",
       "    </tr>\n",
       "    <tr>\n",
       "      <th>589</th>\n",
       "      <td>2022-03-01</td>\n",
       "      <td>420370.028549</td>\n",
       "    </tr>\n",
       "    <tr>\n",
       "      <th>620</th>\n",
       "      <td>2022-04-01</td>\n",
       "      <td>476647.551373</td>\n",
       "    </tr>\n",
       "    <tr>\n",
       "      <th>650</th>\n",
       "      <td>2022-05-01</td>\n",
       "      <td>465185.996798</td>\n",
       "    </tr>\n",
       "    <tr>\n",
       "      <th>681</th>\n",
       "      <td>2022-06-01</td>\n",
       "      <td>459603.069022</td>\n",
       "    </tr>\n",
       "    <tr>\n",
       "      <th>711</th>\n",
       "      <td>2022-07-01</td>\n",
       "      <td>445179.568502</td>\n",
       "    </tr>\n",
       "    <tr>\n",
       "      <th>742</th>\n",
       "      <td>2022-08-01</td>\n",
       "      <td>467444.343586</td>\n",
       "    </tr>\n",
       "    <tr>\n",
       "      <th>773</th>\n",
       "      <td>2022-09-01</td>\n",
       "      <td>476211.591801</td>\n",
       "    </tr>\n",
       "    <tr>\n",
       "      <th>803</th>\n",
       "      <td>2022-10-01</td>\n",
       "      <td>475431.974397</td>\n",
       "    </tr>\n",
       "    <tr>\n",
       "      <th>834</th>\n",
       "      <td>2022-11-01</td>\n",
       "      <td>493203.808395</td>\n",
       "    </tr>\n",
       "  </tbody>\n",
       "</table>\n",
       "</div>"
      ],
      "text/plain": [
       "            ds         y_pred\n",
       "530 2022-01-01  419309.356300\n",
       "561 2022-02-01  440812.670115\n",
       "589 2022-03-01  420370.028549\n",
       "620 2022-04-01  476647.551373\n",
       "650 2022-05-01  465185.996798\n",
       "681 2022-06-01  459603.069022\n",
       "711 2022-07-01  445179.568502\n",
       "742 2022-08-01  467444.343586\n",
       "773 2022-09-01  476211.591801\n",
       "803 2022-10-01  475431.974397\n",
       "834 2022-11-01  493203.808395"
      ]
     },
     "execution_count": 232,
     "metadata": {},
     "output_type": "execute_result"
    }
   ],
   "source": [
    "#Prediction for 12 months in 2022\n",
    "forrecast_monthly_final[forrecast_monthly_final.ds >='2022-01-01']"
   ]
  },
  {
   "cell_type": "markdown",
   "metadata": {},
   "source": [
    "ARIMA"
   ]
  },
  {
   "cell_type": "code",
   "execution_count": 12,
   "metadata": {},
   "outputs": [
    {
     "name": "stderr",
     "output_type": "stream",
     "text": [
      "<ipython-input-12-9a991ae046d0>:1: FutureWarning: The pandas.datetime class is deprecated and will be removed from pandas in a future version. Import from datetime module instead.\n",
      "  from pandas import datetime\n"
     ]
    }
   ],
   "source": [
    "from pandas import datetime\n",
    "from pandas import read_csv\n",
    "from pandas import DataFrame\n",
    "from statsmodels.tsa.arima.model import ARIMA\n",
    "from matplotlib import pyplot\n"
   ]
  },
  {
   "cell_type": "code",
   "execution_count": 31,
   "metadata": {},
   "outputs": [],
   "source": [
    "df_prophet_format_timed = df_prophet_format.set_index('ds')\n",
    "housing_series = df_prophet_format_timed.squeeze()"
   ]
  },
  {
   "cell_type": "code",
   "execution_count": 32,
   "metadata": {},
   "outputs": [
    {
     "data": {
      "text/plain": [
       "ds\n",
       "2021-10-01    433200\n",
       "2021-09-01    425800\n",
       "2021-08-01    422700\n",
       "2021-07-01    420800\n",
       "2021-06-01    418900\n",
       "               ...  \n",
       "2012-05-01    157400\n",
       "2012-04-01    151300\n",
       "2012-03-01    143000\n",
       "2012-02-01    134700\n",
       "2012-01-01    132200\n",
       "Name: y, Length: 118, dtype: int64"
      ]
     },
     "execution_count": 32,
     "metadata": {},
     "output_type": "execute_result"
    }
   ],
   "source": [
    "housing_series"
   ]
  },
  {
   "cell_type": "code",
   "execution_count": 61,
   "metadata": {},
   "outputs": [
    {
     "name": "stderr",
     "output_type": "stream",
     "text": [
      "/Users/sohantha/opt/anaconda3/lib/python3.8/site-packages/statsmodels/tsa/base/tsa_model.py:159: ValueWarning: No frequency information was provided, so inferred frequency -1MS will be used.\n",
      "  warnings.warn('No frequency information was'\n",
      "/Users/sohantha/opt/anaconda3/lib/python3.8/site-packages/statsmodels/tsa/base/tsa_model.py:220: ValueWarning: A date index has been provided, but it is not monotonic and so will be ignored when e.g. forecasting.\n",
      "  warnings.warn('A date index has been provided, but it is not'\n",
      "/Users/sohantha/opt/anaconda3/lib/python3.8/site-packages/statsmodels/tsa/base/tsa_model.py:159: ValueWarning: No frequency information was provided, so inferred frequency -1MS will be used.\n",
      "  warnings.warn('No frequency information was'\n",
      "/Users/sohantha/opt/anaconda3/lib/python3.8/site-packages/statsmodels/tsa/base/tsa_model.py:220: ValueWarning: A date index has been provided, but it is not monotonic and so will be ignored when e.g. forecasting.\n",
      "  warnings.warn('A date index has been provided, but it is not'\n",
      "/Users/sohantha/opt/anaconda3/lib/python3.8/site-packages/statsmodels/tsa/base/tsa_model.py:159: ValueWarning: No frequency information was provided, so inferred frequency -1MS will be used.\n",
      "  warnings.warn('No frequency information was'\n",
      "/Users/sohantha/opt/anaconda3/lib/python3.8/site-packages/statsmodels/tsa/base/tsa_model.py:220: ValueWarning: A date index has been provided, but it is not monotonic and so will be ignored when e.g. forecasting.\n",
      "  warnings.warn('A date index has been provided, but it is not'\n",
      "/Users/sohantha/opt/anaconda3/lib/python3.8/site-packages/statsmodels/tsa/statespace/sarimax.py:963: UserWarning: Non-stationary starting autoregressive parameters found. Using zeros as starting parameters.\n",
      "  warn('Non-stationary starting autoregressive parameters'\n",
      "/Users/sohantha/opt/anaconda3/lib/python3.8/site-packages/statsmodels/tsa/statespace/sarimax.py:975: UserWarning: Non-invertible starting MA parameters found. Using zeros as starting parameters.\n",
      "  warn('Non-invertible starting MA parameters found.'\n"
     ]
    },
    {
     "name": "stdout",
     "output_type": "stream",
     "text": [
      "                               SARIMAX Results                                \n",
      "==============================================================================\n",
      "Dep. Variable:                      y   No. Observations:                  118\n",
      "Model:                 ARIMA(3, 2, 2)   Log Likelihood               -1160.164\n",
      "Date:                Fri, 14 Jan 2022   AIC                           2332.327\n",
      "Time:                        20:39:45   BIC                           2348.849\n",
      "Sample:                             0   HQIC                          2339.034\n",
      "                                - 118                                         \n",
      "Covariance Type:                  opg                                         \n",
      "==============================================================================\n",
      "                 coef    std err          z      P>|z|      [0.025      0.975]\n",
      "------------------------------------------------------------------------------\n",
      "ar.L1         -0.4788      0.546     -0.878      0.380      -1.548       0.590\n",
      "ar.L2         -0.4151      0.482     -0.861      0.389      -1.360       0.529\n",
      "ar.L3         -0.0246      0.011     -2.186      0.029      -0.047      -0.003\n",
      "ma.L1          0.4446      0.550      0.808      0.419      -0.633       1.522\n",
      "ma.L2          0.3842      0.494      0.777      0.437      -0.584       1.353\n",
      "sigma2      1.651e+07   3.19e-08   5.17e+14      0.000    1.65e+07    1.65e+07\n",
      "===================================================================================\n",
      "Ljung-Box (Q):                       82.20   Jarque-Bera (JB):                23.90\n",
      "Prob(Q):                              0.00   Prob(JB):                         0.00\n",
      "Heteroskedasticity (H):               0.47   Skew:                             0.61\n",
      "Prob(H) (two-sided):                  0.02   Kurtosis:                         4.86\n",
      "===================================================================================\n",
      "\n",
      "Warnings:\n",
      "[1] Covariance matrix calculated using the outer product of gradients (complex-step).\n",
      "[2] Covariance matrix is singular or near-singular, with condition number 3.59e+30. Standard errors may be unstable.\n"
     ]
    }
   ],
   "source": [
    "model_arima =ARIMA(housing_series,order =(3,2,2))\n",
    "model_arima_fit = model_arima.fit()\n",
    "print(model_arima_fit.summary())"
   ]
  },
  {
   "cell_type": "code",
   "execution_count": 62,
   "metadata": {},
   "outputs": [
    {
     "data": {
      "image/png": "[encoded data removed]",
      "text/plain": [
       "<Figure size 432x288 with 1 Axes>"
      ]
     },
     "metadata": {
      "needs_background": "light"
     },
     "output_type": "display_data"
    },
    {
     "data": {
      "image/png": "[encoded data removed]",
      "text/plain": [
       "<Figure size 432x288 with 1 Axes>"
      ]
     },
     "metadata": {
      "needs_background": "light"
     },
     "output_type": "display_data"
    },
    {
     "name": "stdout",
     "output_type": "stream",
     "text": [
      "                   0\n",
      "count     118.000000\n",
      "mean      168.263590\n",
      "std     55006.304407\n",
      "min   -404211.957603\n",
      "25%     -3744.222302\n",
      "50%       165.629328\n",
      "75%      3149.422366\n",
      "max    433200.000000\n"
     ]
    }
   ],
   "source": [
    "residuals = DataFrame(model_arima_fit.resid)\n",
    "residuals.plot()\n",
    "pyplot.show()\n",
    "# density plot of residuals\n",
    "residuals.plot(kind='kde')\n",
    "pyplot.show()\n",
    "# summary stats of residuals\n",
    "print(residuals.describe())"
   ]
  },
  {
   "cell_type": "code",
   "execution_count": 63,
   "metadata": {},
   "outputs": [
    {
     "name": "stderr",
     "output_type": "stream",
     "text": [
      "/Users/sohantha/opt/anaconda3/lib/python3.8/site-packages/statsmodels/tsa/base/tsa_model.py:580: ValueWarning: No supported index is available. Prediction results will be given with an integer index beginning at `start`.\n",
      "  warnings.warn('No supported index is available.'\n"
     ]
    }
   ],
   "source": [
    "output = model_arima_fit.forecast(365)"
   ]
  },
  {
   "cell_type": "code",
   "execution_count": 64,
   "metadata": {},
   "outputs": [
    {
     "data": {
      "text/plain": [
       "118    129481.274237\n",
       "119    126669.311912\n",
       "120    123850.039300\n",
       "121    121078.356214\n",
       "122    118289.216753\n",
       "           ...      \n",
       "478   -875524.340197\n",
       "479   -878315.936184\n",
       "480   -881107.532172\n",
       "481   -883899.128160\n",
       "482   -886690.724148\n",
       "Length: 365, dtype: float64"
      ]
     },
     "execution_count": 64,
     "metadata": {},
     "output_type": "execute_result"
    }
   ],
   "source": [
    "output"
   ]
  },
  {
   "cell_type": "code",
   "execution_count": 67,
   "metadata": {},
   "outputs": [
    {
     "data": {
      "image/png": "[encoded data removed]",
      "text/plain": [
       "<Figure size 504x360 with 4 Axes>"
      ]
     },
     "execution_count": 67,
     "metadata": {},
     "output_type": "execute_result"
    },
    {
     "data": {
      "image/png": "[encoded data removed]",
      "text/plain": [
       "<Figure size 504x360 with 4 Axes>"
      ]
     },
     "metadata": {
      "needs_background": "light"
     },
     "output_type": "display_data"
    }
   ],
   "source": [
    "model_arima_fit.plot_diagnostics(figsize=(7,5))"
   ]
  },
  {
   "cell_type": "markdown",
   "metadata": {},
   "source": [
    "\n",
    "Observations:  \n",
    "Standaedized residual  : The residual errors seem to fluctuate around a mean of zero and have a SIGNIFICANT VARIATION.\n",
    "\n",
    "Estimated denisty : The density plot suggest normal distribution with mean zero.\n",
    "\n",
    "Normal Q Q: All the dots should fall perfectly in line with the red line. But there are significant deviations hence the prediction is highly skewed.\n",
    "\n",
    "Correlogram: The ACF plot shows the residual errors are autocorrelated which means that there is some pattern in the residual errors which are not explained in the model. So you will need to look for more X’s (predictors) to the model.\n",
    "    "
   ]
  },
  {
   "cell_type": "code",
   "execution_count": null,
   "metadata": {},
   "outputs": [],
   "source": []
  }
 ],
 "metadata": {
  "kernelspec": {
   "display_name": "Python 3",
   "language": "python",
   "name": "python3"
  },
  "language_info": {
   "codemirror_mode": {
    "name": "ipython",
    "version": 3
   },
   "file_extension": ".py",
   "mimetype": "text/x-python",
   "name": "python",
   "nbconvert_exporter": "python",
   "pygments_lexer": "ipython3",
   "version": "3.8.3"
  }
 },
 "nbformat": 4,
 "nbformat_minor": 4
}
